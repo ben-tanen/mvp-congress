{
 "cells": [
  {
   "cell_type": "code",
   "execution_count": 20,
   "metadata": {
    "collapsed": true
   },
   "outputs": [],
   "source": [
    "import os\n",
    "import json\n",
    "from pprint import pprint\n",
    "\n",
    "import numpy as np\n",
    "import pandas as pd"
   ]
  },
  {
   "cell_type": "code",
   "execution_count": 21,
   "metadata": {
    "collapsed": false
   },
   "outputs": [],
   "source": [
    "dir = \"./congress113/bills/hr/\"\n",
    "dirs = [d for d in os.listdir(dir) if os.path.isdir(os.path.join(dir, d))]"
   ]
  },
  {
   "cell_type": "code",
   "execution_count": 22,
   "metadata": {
    "collapsed": false
   },
   "outputs": [
    {
     "name": "stdout",
     "output_type": "stream",
     "text": [
      "./congress113/bills/hr/hr1\n"
     ]
    }
   ],
   "source": [
    "print dir + dirs[0]\n",
    "f = dir + dirs[0] + '/data.json'"
   ]
  },
  {
   "cell_type": "code",
   "execution_count": null,
   "metadata": {
    "collapsed": true
   },
   "outputs": [],
   "source": [
    "def parse_hr(data):\n",
    "    return "
   ]
  },
  {
   "cell_type": "code",
   "execution_count": 34,
   "metadata": {
    "collapsed": false
   },
   "outputs": [
    {
     "name": "stdout",
     "output_type": "stream",
     "text": [
      "{u'actions': [{u'acted_at': u'2014-12-10',\n",
      "               u'committees': [u'HSWM'],\n",
      "               u'references': [],\n",
      "               u'status': u'REFERRED',\n",
      "               u'text': u'Referred to the House Committee on Ways and Means.',\n",
      "               u'type': u'referral'},\n",
      "              {u'acted_at': u'2014-12-12',\n",
      "               u'references': [{u'reference': u'CR E1800-1801',\n",
      "                                u'type': None}],\n",
      "               u'text': u'Sponsor introductory remarks on measure.',\n",
      "               u'type': u'action'}],\n",
      " u'amendments': [],\n",
      " u'bill_id': u'hr1-113',\n",
      " u'bill_type': u'hr',\n",
      " u'by_request': False,\n",
      " u'committees': [{u'activity': [u'referral'],\n",
      "                  u'committee': u'House Ways and Means',\n",
      "                  u'committee_id': u'HSWM'}],\n",
      " u'congress': u'113',\n",
      " u'cosponsors': [],\n",
      " u'enacted_as': None,\n",
      " u'history': {u'active': False,\n",
      "              u'awaiting_signature': False,\n",
      "              u'enacted': False,\n",
      "              u'vetoed': False},\n",
      " u'introduced_at': u'2014-12-10',\n",
      " u'number': u'1',\n",
      " u'official_title': u'To amend the Internal Revenue Code of 1986 to provide for comprehensive tax reform.',\n",
      " u'popular_title': None,\n",
      " u'related_bills': [{u'bill_id': u's3018-113',\n",
      "                     u'reason': u'related',\n",
      "                     u'type': u'bill'}],\n",
      " u'short_title': u'Tax Reform Act of 2014',\n",
      " u'sponsor': {u'district': u'4',\n",
      "              u'name': u'Camp, Dave',\n",
      "              u'state': u'MI',\n",
      "              u'thomas_id': u'00166',\n",
      "              u'title': u'Rep',\n",
      "              u'type': u'person'},\n",
      " u'status': u'REFERRED',\n",
      " u'status_at': u'2014-12-10',\n",
      " u'subjects': [u'Accidents',\n",
      "               u'Accounting and auditing',\n",
      "               u'Administrative law and regulatory procedures',\n",
      "               u'Adoption and foster care',\n",
      "               u'Advisory bodies',\n",
      "               u'Air quality',\n",
      "               u'Alternative and renewable resources',\n",
      "               u'Aviation and airports',\n",
      "               u'Bank accounts, deposits, capital',\n",
      "               u'Books and print media',\n",
      "               u'Building construction',\n",
      "               u'Business expenses',\n",
      "               u'Business investment and capital',\n",
      "               u'Capital gains tax',\n",
      "               u'Caribbean area',\n",
      "               u'Charitable contributions',\n",
      "               u'Child care and development',\n",
      "               u'Civil actions and liability',\n",
      "               u'Coal',\n",
      "               u'Competition and antitrust',\n",
      "               u'Contracts and agency',\n",
      "               u'Corporate finance and management',\n",
      "               u'Department of the Treasury',\n",
      "               u'Economic development',\n",
      "               u'Electric power generation and transmission',\n",
      "               u'Employee benefits and pensions',\n",
      "               u'Employee hiring',\n",
      "               u'Employment taxes',\n",
      "               u'Endangered and threatened species',\n",
      "               u'Energy efficiency and conservation',\n",
      "               u'Environmental technology',\n",
      "               u'Farmland',\n",
      "               u'Foreign and international corporations',\n",
      "               u'Foreign labor',\n",
      "               u'Forests, forestry, trees',\n",
      "               u'Gambling',\n",
      "               u'General taxation matters',\n",
      "               u'Government employee pay, benefits, personnel management',\n",
      "               u'Government studies and investigations',\n",
      "               u'Government trust funds',\n",
      "               u'Great Plains',\n",
      "               u'Hazardous wastes and toxic substances',\n",
      "               u'Health care costs and insurance',\n",
      "               u'Health technology, devices, supplies',\n",
      "               u'Higher education',\n",
      "               u'Housing finance and home ownership',\n",
      "               u'Hybrid, electric, and advanced technology vehicles',\n",
      "               u'Income tax credits',\n",
      "               u'Income tax deductions',\n",
      "               u'Income tax exclusion',\n",
      "               u'Income tax rates',\n",
      "               u'Indian social and development programs',\n",
      "               u'Industrial facilities',\n",
      "               u'Inflation and prices',\n",
      "               u'Insurance industry and regulation',\n",
      "               u'Intellectual property',\n",
      "               u'Interest, dividends, interest rates',\n",
      "               u'Internal Revenue Service (IRS)',\n",
      "               u'Judges',\n",
      "               u'Land transfers',\n",
      "               u'Land use and conservation',\n",
      "               u'Lawyers and legal services',\n",
      "               u'Life, casualty, property insurance',\n",
      "               u'Low- and moderate-income housing',\n",
      "               u'Marine and inland water transportation',\n",
      "               u'Marketing and advertising',\n",
      "               u'Medical research',\n",
      "               u'Medicare',\n",
      "               u'Metals',\n",
      "               u'Military personnel and dependents',\n",
      "               u'Mining',\n",
      "               u'Motor fuels',\n",
      "               u'Motor vehicles',\n",
      "               u'Natural disasters',\n",
      "               u'Nuclear power',\n",
      "               u'Oil and gas',\n",
      "               u'Pollution liability',\n",
      "               u'Poverty and welfare assistance',\n",
      "               u'Prescription drugs',\n",
      "               u'Professional sports',\n",
      "               u'Public participation and lobbying',\n",
      "               u'Public utilities and utility rates',\n",
      "               u'Puerto Rico',\n",
      "               u'Railroads',\n",
      "               u'Real estate business',\n",
      "               u'Religion',\n",
      "               u'Research and development',\n",
      "               u'Residential rehabilitation and home repair',\n",
      "               u'Sales and excise taxes',\n",
      "               u'Securities',\n",
      "               u'Self-employed',\n",
      "               u'Separation, divorce, custody, support',\n",
      "               u'Small business',\n",
      "               u'Social security and elderly assistance',\n",
      "               u'State and local taxation',\n",
      "               u'Student aid and college costs',\n",
      "               u'Tax administration and collection, taxpayers',\n",
      "               u'Tax reform and tax simplification',\n",
      "               u'Tax treatment of families',\n",
      "               u'Tax-exempt organizations',\n",
      "               u'Taxation',\n",
      "               u'Taxation of foreign income',\n",
      "               u'Television and film',\n",
      "               u'Transfer and inheritance taxes',\n",
      "               u'Transportation costs',\n",
      "               u'Travel and tourism',\n",
      "               u'U.S. territories and protectorates',\n",
      "               u'Unemployment',\n",
      "               u'Wages and earnings',\n",
      "               u'Water quality',\n",
      "               u'Worker safety and health'],\n",
      " u'subjects_top_term': u'Taxation',\n",
      " u'summary': None,\n",
      " u'titles': [{u'as': u'introduced',\n",
      "              u'is_for_portion': False,\n",
      "              u'title': u'Tax Reform Act of 2014',\n",
      "              u'type': u'short'},\n",
      "             {u'as': u'introduced',\n",
      "              u'is_for_portion': False,\n",
      "              u'title': u'To amend the Internal Revenue Code of 1986 to provide for comprehensive tax reform.',\n",
      "              u'type': u'official'}],\n",
      " u'updated_at': u'2015-01-03T11:18:31-05:00'}\n",
      "{u'name': u'Camp, Dave', u'district': u'4', u'title': u'Rep', u'state': u'MI', u'type': u'person', u'thomas_id': u'00166'}\n"
     ]
    }
   ],
   "source": [
    "with open(f) as data_file:    \n",
    "    data = json.load(data_file)\n",
    "\n",
    "pprint(data)\n",
    "print data['sponsor']"
   ]
  },
  {
   "cell_type": "code",
   "execution_count": 32,
   "metadata": {
    "collapsed": false
   },
   "outputs": [],
   "source": [
    "reps = pd.DataFrame(columns = ['name', 'state', 'district', '# sponsorships', 'sponsorships', '# cosponsorships', 'cosponsorships'])"
   ]
  },
  {
   "cell_type": "code",
   "execution_count": 33,
   "metadata": {
    "collapsed": false
   },
   "outputs": [
    {
     "data": {
      "text/html": [
       "<div style=\"max-height:1000px;max-width:1500px;overflow:auto;\">\n",
       "<table border=\"1\" class=\"dataframe\">\n",
       "  <thead>\n",
       "    <tr style=\"text-align: right;\">\n",
       "      <th></th>\n",
       "      <th>name</th>\n",
       "      <th>state</th>\n",
       "      <th>district</th>\n",
       "      <th># sponsorships</th>\n",
       "      <th>sponsorships</th>\n",
       "      <th># cosponsorships</th>\n",
       "      <th>cosponsorships</th>\n",
       "    </tr>\n",
       "  </thead>\n",
       "  <tbody>\n",
       "  </tbody>\n",
       "</table>\n",
       "</div>"
      ],
      "text/plain": [
       "Empty DataFrame\n",
       "Columns: [name, state, district, # sponsorships, sponsorships, # cosponsorships, cosponsorships]\n",
       "Index: []"
      ]
     },
     "execution_count": 33,
     "metadata": {},
     "output_type": "execute_result"
    }
   ],
   "source": [
    "reps"
   ]
  },
  {
   "cell_type": "code",
   "execution_count": null,
   "metadata": {
    "collapsed": true
   },
   "outputs": [],
   "source": []
  }
 ],
 "metadata": {
  "kernelspec": {
   "display_name": "Python 2",
   "language": "python",
   "name": "python2"
  },
  "language_info": {
   "codemirror_mode": {
    "name": "ipython",
    "version": 2
   },
   "file_extension": ".py",
   "mimetype": "text/x-python",
   "name": "python",
   "nbconvert_exporter": "python",
   "pygments_lexer": "ipython2",
   "version": "2.7.10"
  }
 },
 "nbformat": 4,
 "nbformat_minor": 0
}
